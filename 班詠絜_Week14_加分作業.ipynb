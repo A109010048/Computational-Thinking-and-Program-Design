{
  "nbformat": 4,
  "nbformat_minor": 0,
  "metadata": {
    "colab": {
      "name": "班詠絜-Week14-加分作業.ipynb",
      "provenance": [],
      "collapsed_sections": [],
      "authorship_tag": "ABX9TyMjFy0hbYKVMj2W1iFd/4nN",
      "include_colab_link": true
    },
    "kernelspec": {
      "name": "python3",
      "display_name": "Python 3"
    },
    "language_info": {
      "name": "python"
    }
  },
  "cells": [
    {
      "cell_type": "markdown",
      "metadata": {
        "id": "view-in-github",
        "colab_type": "text"
      },
      "source": [
        "<a href=\"https://colab.research.google.com/github/A109010048/Computational-Thinking-and-Program-Design/blob/main/%E7%8F%AD%E8%A9%A0%E7%B5%9C_Week14_%E5%8A%A0%E5%88%86%E4%BD%9C%E6%A5%AD.ipynb\" target=\"_parent\"><img src=\"https://colab.research.google.com/assets/colab-badge.svg\" alt=\"Open In Colab\"/></a>"
      ]
    },
    {
      "cell_type": "markdown",
      "metadata": {
        "id": "ynRjs8c9Vv7j"
      },
      "source": [
        "**加分題: 棒打老虎雞吃蟲**\n",
        "\n",
        "[棒打老虎雞吃蟲]跟[剪刀石頭布]是類似的遊戲，練習一下你是否也可以寫出類似的小遊戲呢？"
      ]
    },
    {
      "cell_type": "code",
      "metadata": {
        "colab": {
          "base_uri": "https://localhost:8080/"
        },
        "id": "Z7q0p7WAVzsI",
        "outputId": "c38b0963-7aaf-4166-9f9e-92fe01ced4e5"
      },
      "source": [
        "my = int(input(\"請出拳 [0] 棒子 [1] 老虎 [2] 雞 [3] 蟲\"))\n",
        "print(\"我出拳為\", my)\n",
        "import random\n",
        "computer = random.randint(0, 3)\n",
        "print(\"電腦出拳為\", computer)\n",
        "\n",
        "if my == 0:\n",
        "    if computer == 0:\n",
        "        print('平手')\n",
        "    elif computer == 1:\n",
        "        print('玩家獲勝')\n",
        "    elif computer == 2:\n",
        "        print('平手')\n",
        "    else:\n",
        "        print('電腦獲勝')\n",
        "elif my == 1:\n",
        "    if computer == 0:\n",
        "        print('電腦獲勝')\n",
        "    elif computer == 1:\n",
        "        print('平手')\n",
        "    elif computer == 2:\n",
        "        print('玩家獲勝')\n",
        "    else:\n",
        "        print('平手')\n",
        "elif my == 2:\n",
        "    if computer == 0:\n",
        "        print('平手')\n",
        "    elif computer == 1:\n",
        "        print('電腦獲勝')\n",
        "    elif computer == 2:\n",
        "        print('平手')\n",
        "    else:\n",
        "        print('玩家獲勝')\n",
        "else:\n",
        "    if computer == 0:\n",
        "        print('玩家獲勝')\n",
        "    elif computer == 1:\n",
        "        print('平手')\n",
        "    elif computer == 2:\n",
        "        print('電腦獲勝')\n",
        "    else:\n",
        "        print('平手')"
      ],
      "execution_count": 3,
      "outputs": [
        {
          "output_type": "stream",
          "text": [
            "請出拳 [0] 棒子 [1] 老虎 [2] 雞 [3] 蟲2\n",
            "我出拳為 2\n",
            "電腦出拳為 3\n",
            "玩家獲勝\n"
          ],
          "name": "stdout"
        }
      ]
    }
  ]
}