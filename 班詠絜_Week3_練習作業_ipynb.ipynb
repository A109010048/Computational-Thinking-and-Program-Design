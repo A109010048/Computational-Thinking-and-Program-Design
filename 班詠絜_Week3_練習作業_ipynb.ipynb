{
  "nbformat": 4,
  "nbformat_minor": 0,
  "metadata": {
    "colab": {
      "name": "「班詠絜-Week3-練習作業.ipynb」的副本",
      "provenance": [],
      "collapsed_sections": [],
      "authorship_tag": "ABX9TyPz40thMgWdMHEPPoVcNWF+",
      "include_colab_link": true
    },
    "kernelspec": {
      "name": "python3",
      "display_name": "Python 3"
    }
  },
  "cells": [
    {
      "cell_type": "markdown",
      "metadata": {
        "id": "view-in-github",
        "colab_type": "text"
      },
      "source": [
        "<a href=\"https://colab.research.google.com/github/A109010048/Computational-Thinking-and-Program-Design/blob/main/%E7%8F%AD%E8%A9%A0%E7%B5%9C_Week3_%E7%B7%B4%E7%BF%92%E4%BD%9C%E6%A5%AD_ipynb.ipynb\" target=\"_parent\"><img src=\"https://colab.research.google.com/assets/colab-badge.svg\" alt=\"Open In Colab\"/></a>"
      ]
    },
    {
      "cell_type": "markdown",
      "metadata": {
        "id": "qgUHtNpsNTSM"
      },
      "source": [
        "#隨堂練習"
      ]
    },
    {
      "cell_type": "markdown",
      "metadata": {
        "id": "Ij73jhTKb6oc"
      },
      "source": [
        "建立Colab檔案 修改檔名 儲存檔案\r\n",
        "\r\n",
        "電腦由軟體及硬體(輸入-處理-輸出)組成\r\n",
        "\r\n",
        "程式語言是電腦跟人溝通的橋樑\r\n",
        "\r\n",
        "用電腦解決問題:\r\n",
        "\r\n",
        "運算思維Analyze Proble\r\n",
        "\r\n",
        "程式設計Design\r\n",
        "\r\n",
        "程式編碼Coding\r\n",
        "\r\n",
        "測試除錯Test and Debug\r\n"
      ]
    },
    {
      "cell_type": "markdown",
      "metadata": {
        "id": "hpnKgP7LcGtn"
      },
      "source": [
        "#課後練習"
      ]
    },
    {
      "cell_type": "markdown",
      "metadata": {
        "id": "BbEBCE18cQPp"
      },
      "source": [
        "從一則新聞報導，提出你對新聞系（OO系）學生為什麼要學「運算思維與程式設計」的見解。（告訴我新聞連結，以及你的觀點即可。）\r\n"
      ]
    }
  ]
}