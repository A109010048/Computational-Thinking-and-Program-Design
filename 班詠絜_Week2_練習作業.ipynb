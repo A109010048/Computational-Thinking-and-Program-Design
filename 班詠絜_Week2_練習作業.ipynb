{
  "nbformat": 4,
  "nbformat_minor": 0,
  "metadata": {
    "colab": {
      "name": "「班詠絜-Week2-練習作業.ipynb」的副本",
      "provenance": [],
      "collapsed_sections": [],
      "authorship_tag": "ABX9TyNU87Re9YfD5ccDImn+AMvM",
      "include_colab_link": true
    },
    "kernelspec": {
      "name": "python3",
      "display_name": "Python 3"
    }
  },
  "cells": [
    {
      "cell_type": "markdown",
      "metadata": {
        "id": "view-in-github",
        "colab_type": "text"
      },
      "source": [
        "<a href=\"https://colab.research.google.com/github/A109010048/Computational-Thinking-and-Program-Design/blob/main/%E7%8F%AD%E8%A9%A0%E7%B5%9C_Week2_%E7%B7%B4%E7%BF%92%E4%BD%9C%E6%A5%AD.ipynb\" target=\"_parent\"><img src=\"https://colab.research.google.com/assets/colab-badge.svg\" alt=\"Open In Colab\"/></a>"
      ]
    },
    {
      "cell_type": "code",
      "metadata": {
        "colab": {
          "base_uri": "https://localhost:8080/"
        },
        "id": "lMyNJSJgTuLW",
        "outputId": "db720088-144b-4e86-bf63-c2ff781b1f24"
      },
      "source": [
        "print(1+1)"
      ],
      "execution_count": null,
      "outputs": [
        {
          "output_type": "stream",
          "text": [
            "2\n"
          ],
          "name": "stdout"
        }
      ]
    },
    {
      "cell_type": "code",
      "metadata": {
        "colab": {
          "base_uri": "https://localhost:8080/"
        },
        "id": "x9BqDtD0UDpy",
        "outputId": "3a898918-1f27-452e-e0a0-de9d2d769ac0"
      },
      "source": [
        "print(\"hello\")"
      ],
      "execution_count": null,
      "outputs": [
        {
          "output_type": "stream",
          "text": [
            "hello\n"
          ],
          "name": "stdout"
        }
      ]
    },
    {
      "cell_type": "markdown",
      "metadata": {
        "id": "FzVrNLg7Yme7"
      },
      "source": [
        "Google Colab 操作步驟:\r\n",
        "\r\n",
        "Step 1. 前往 https://colab.research.google.com/，並⽤Gmail登錄。\r\n",
        "\r\n",
        "Step 2. 點選 NEW NOTEBOOK\r\n",
        "修改檔案名稱（班詠絜-Week2-練習作業.ipynb）\r\n",
        "\r\n",
        "Step 3. 撰寫程式\r\n",
        "寫指令/寫文字 執⾏程式，Ctrl/Shift + Enter（點選三⾓形前進符號） 儲存檔案，Ctrl+S (菜單中的File->儲存(Github/Google Drive))\r\n"
      ]
    }
  ]
}