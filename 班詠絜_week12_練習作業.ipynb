{
  "nbformat": 4,
  "nbformat_minor": 0,
  "metadata": {
    "kernelspec": {
      "display_name": "Python 3",
      "language": "python",
      "name": "python3"
    },
    "language_info": {
      "codemirror_mode": {
        "name": "ipython",
        "version": 3
      },
      "file_extension": ".py",
      "mimetype": "text/x-python",
      "name": "python",
      "nbconvert_exporter": "python",
      "pygments_lexer": "ipython3",
      "version": "3.8.5"
    },
    "colab": {
      "name": "班詠絜-week12-練習作業.ipynb",
      "provenance": [],
      "collapsed_sections": [],
      "include_colab_link": true
    }
  },
  "cells": [
    {
      "cell_type": "markdown",
      "metadata": {
        "id": "view-in-github",
        "colab_type": "text"
      },
      "source": [
        "<a href=\"https://colab.research.google.com/github/A109010048/Computational-Thinking-and-Program-Design/blob/main/%E7%8F%AD%E8%A9%A0%E7%B5%9C_week12_%E7%B7%B4%E7%BF%92%E4%BD%9C%E6%A5%AD.ipynb\" target=\"_parent\"><img src=\"https://colab.research.google.com/assets/colab-badge.svg\" alt=\"Open In Colab\"/></a>"
      ]
    },
    {
      "cell_type": "markdown",
      "metadata": {
        "id": "vbxm74OJkpvV"
      },
      "source": [
        "### 1. 單向選擇\n"
      ]
    },
    {
      "cell_type": "code",
      "metadata": {
        "id": "y5p_LIHXkpvb"
      },
      "source": [
        "## 範例：比較數字（一）: if\n",
        "\n",
        "In [3]: ## 數字資料 （一）\n",
        "   ...: num = int(input(\"請輸入一個數字: \"))\n",
        "   ...: if num > 0:\n",
        "   ...: \tprint(\"數字為正數\")\n",
        "   ...: print(\"比較完畢\")\n",
        "   ...: # 輸入5, 10, -3看結果\n",
        "\n",
        "請輸入一個數字: 5\n",
        "數字為正數\n",
        "比較完畢"
      ],
      "execution_count": null,
      "outputs": []
    },
    {
      "cell_type": "code",
      "metadata": {
        "colab": {
          "base_uri": "https://localhost:8080/"
        },
        "id": "kvx4UPZ2qCOo",
        "outputId": "fb49ea30-e73d-4d34-c9f2-47af66666dcf"
      },
      "source": [
        "num=5\n",
        "if num>0:\n",
        "  print(\"The number is positive\")\n",
        "print(\"Finish\")\n",
        "\n",
        "num=-5\n",
        "if num>0:\n",
        "  print(\"The number is positive\")\n",
        "print(\"Finish\")"
      ],
      "execution_count": null,
      "outputs": [
        {
          "output_type": "stream",
          "text": [
            "The number is positive\n",
            "Finish\n",
            "Finish\n"
          ],
          "name": "stdout"
        }
      ]
    },
    {
      "cell_type": "code",
      "metadata": {
        "id": "q6pRMybLrDeB"
      },
      "source": [
        "## 範例：比較數字（二）:串接if\n",
        "\n",
        "In [5]: num = int(input(\"輸入一個數字： \"))\n",
        "   ...: \n",
        "   ...: if num > 0:\n",
        "   ...: \tprint(\"是正數\")\n",
        "   ...: if num < 0:\n",
        "   ...: \tprint(\"是負數\")\n",
        "   ...: if num == 0:\n",
        "   ...: \tprint(\"數字是0\")\n",
        "   ...: print(\"比較完畢！\")\n",
        "\n",
        "輸入一個數字： 5\n",
        "是正數\n",
        "比較完畢！"
      ],
      "execution_count": null,
      "outputs": []
    },
    {
      "cell_type": "code",
      "metadata": {
        "colab": {
          "base_uri": "https://localhost:8080/"
        },
        "id": "acd-kxcdrHbI",
        "outputId": "1fc4c9aa-080a-4487-f0f3-aa4325f5f26d"
      },
      "source": [
        "num=0\n",
        "if num>0:\n",
        "  print(\"Positive\")\n",
        "if num<0:\n",
        "  print(\"Negative\")\n",
        "if num==0:\n",
        "  print(\"Zero\")\n",
        "print(\"Finish\")"
      ],
      "execution_count": null,
      "outputs": [
        {
          "output_type": "stream",
          "text": [
            "Zero\n",
            "Finish\n"
          ],
          "name": "stdout"
        }
      ]
    },
    {
      "cell_type": "code",
      "metadata": {
        "id": "Xqm48pqvkpvf"
      },
      "source": [
        "## 範例：比較數字（三）:巢狀條件式\n",
        "\n",
        "In [6]: ## 巢狀條件式\n",
        "   ...: num_a = int(input(\"輸入第一個數字？ \"))\n",
        "   ...: num_b = int(input(\"輸入第二個數字？ \"))\n",
        "   ...: \n",
        "   ...: if num_a < 0:\n",
        "   ...: \tprint(\"第一個是負數\")\n",
        "   ...: \tif num_b < 0:\n",
        "   ...: \t\tprint(\"第二個也是負數\")\n",
        "   ...: print(\"比較完成\")\n",
        "\n",
        "輸入第一個數字？ 5\n",
        "\n",
        "輸入第二個數字？ 8\n",
        "比較完成\n",
        "\n",
        "In [7]: ## 非巢狀結構\n",
        "   ...: num_a = int(input(\"輸入第一個數字？ \"))\n",
        "   ...: num_b = int(input(\"輸入第二個數字？ \"))\n",
        "   ...: \n",
        "   ...: if num_a < 0:\n",
        "   ...: \tprint(\"第一個是負數\")\n",
        "   ...: if num_b < 0:\n",
        "   ...: \tprint(\"第二個是負數\")\n",
        "   ...: print(\"比較完成\")\n",
        "\n",
        "輸入第一個數字？ 5\n",
        "\n",
        "輸入第二個數字？ 8\n",
        "比較完成\n",
        "\n",
        "## 加分:請舉例說明這兩個程式的執行結果何時會不同?"
      ],
      "execution_count": null,
      "outputs": []
    },
    {
      "cell_type": "code",
      "metadata": {
        "id": "5KjM1WQ4kpvf",
        "colab": {
          "base_uri": "https://localhost:8080/"
        },
        "outputId": "1e7f18c6-f217-4352-b791-074c721d4b6b"
      },
      "source": [
        "num_a=int(input(\"第一個數字：\"))\n",
        "num_b=int(input(\"第二個數字：\"))\n",
        "if num_a<0:\n",
        "  print(\"第一個是負數\")\n",
        "  if num_b < 0:\n",
        "    print(\"第二個也是負數\")\n",
        "print(\"比較完成\")\n",
        "\n",
        "if num_a < 0:\n",
        "  print(\"第一個是負數\")\n",
        "if num_b < 0:\n",
        "  print(\"第二個是負數\")\n",
        "print(\"比較完成\")"
      ],
      "execution_count": null,
      "outputs": [
        {
          "output_type": "stream",
          "text": [
            "第一個數字：5\n",
            "第二個數字：-5\n",
            "比較完成\n",
            "第二個是負數\n",
            "比較完成\n"
          ],
          "name": "stdout"
        }
      ]
    },
    {
      "cell_type": "code",
      "metadata": {
        "id": "WleD3xI5kpvg"
      },
      "source": [
        "**範例：今晚要煮義大利麵嗎?**"
      ],
      "execution_count": null,
      "outputs": []
    },
    {
      "cell_type": "code",
      "metadata": {
        "id": "xSJ5M2Qekpvg"
      },
      "source": [
        "In [10]: ## 今晚吃義大利麵嗎？\n",
        "    ...: noodle = input(\"有麵嗎？ YES or NO: \")\n",
        "    ...: sauce = input(\"有醬料嗎？ YES or NO: \")\n",
        "    ...: \n",
        "    ...: ## 方法（一）\n",
        "    ...: if noodle==\"YES\" and sauce==\"YES\": # 真值表結果\n",
        "    ...: \tprint(\"今天晚上吃義大利麵\")\n",
        "\n",
        "有麵嗎？ YES or NO: YES\n",
        "\n",
        "有醬料嗎？ YES or NO: YES\n",
        "今天晚上吃義大利麵\n",
        "\n",
        "In [11]: ## 方法（二）\n",
        "    ...: if noodle == \"YES\":\n",
        "    ...: \tif sauce == \"YES\":\n",
        "    ...: \t\tprint(\"今天晚上吃義大利麵\")\n",
        "    ...:         \n",
        "今天晚上吃義大利麵"
      ],
      "execution_count": null,
      "outputs": []
    },
    {
      "cell_type": "code",
      "metadata": {
        "colab": {
          "base_uri": "https://localhost:8080/"
        },
        "id": "s7y8RaU9X6yi",
        "outputId": "fbf82463-be36-496d-9b1a-82c01eae69be"
      },
      "source": [
        "noodle = input(\"有麵嗎？ YES or NO: \")\n",
        "sauce = input(\"有醬料嗎？ YES or NO: \")\n",
        "if noodle==\"YES\" and sauce==\"YES\":\n",
        "  print(\"今天晚上吃義大利麵\")\n",
        "\n",
        "if noodle == \"YES\":\n",
        "  if sauce == \"YES\":\n",
        "    print(\"今天晚上吃義大利麵\")"
      ],
      "execution_count": null,
      "outputs": [
        {
          "output_type": "stream",
          "text": [
            "有麵嗎？ YES or NO: YES\n",
            "有醬料嗎？ YES or NO: YES\n",
            "今天晚上吃義大利麵\n",
            "今天晚上吃義大利麵\n"
          ],
          "name": "stdout"
        }
      ]
    },
    {
      "cell_type": "markdown",
      "metadata": {
        "id": "jHrB7J2Wkpvh"
      },
      "source": [
        "## 2.  雙向選擇\n"
      ]
    },
    {
      "cell_type": "code",
      "metadata": {
        "id": "fIcMHCCxkpvh"
      },
      "source": [
        "**範例: 判斷及格與不及格**\n",
        "\n",
        " In [1]: score = int(input('請輸入一個成績？'))\n",
        "    ...: if score >= 60:\n",
        "    ...:     print('有及格ㄡ～')\n",
        "    ...: else:\n",
        "    ...:     print('不及格ㄟ！')\n",
        "    ...:     \n",
        "\n",
        "請輸入一個成績？88\n",
        "有及格ㄡ～"
      ],
      "execution_count": null,
      "outputs": []
    },
    {
      "cell_type": "code",
      "metadata": {
        "id": "lbI1nwkrkpvh",
        "colab": {
          "base_uri": "https://localhost:8080/"
        },
        "outputId": "8cf18c61-ff60-4927-f475-82dd521fe2ce"
      },
      "source": [
        "score = int(input(\"輸入成績:\"))\n",
        "if score >= 60:\n",
        "  print(\"及格\")\n",
        "else:\n",
        "  print(\"不及格\")"
      ],
      "execution_count": null,
      "outputs": [
        {
          "output_type": "stream",
          "text": [
            "輸入成績:77\n",
            "及格\n"
          ],
          "name": "stdout"
        }
      ]
    },
    {
      "cell_type": "markdown",
      "metadata": {
        "id": "xyPLWNdPkpvi"
      },
      "source": [
        "#### 隨堂練習: 滿2000 打九折\n",
        "\n",
        "**請寫一個程式幫助店家計算顧客所需付出的金額。**\n",
        "\n",
        "採買物品時，有時會遇到店家為了刺激消費，會使用滿額折扣。例如，滿2000 打九折，未滿2000 則不打折。"
      ]
    },
    {
      "cell_type": "code",
      "metadata": {
        "id": "RnyG-6gVkpvi",
        "colab": {
          "base_uri": "https://localhost:8080/"
        },
        "outputId": "7355a217-f535-44a2-d980-d77814b17bba"
      },
      "source": [
        "dollar=int(input(\"多少錢：\"))\n",
        "if dollar>=2000:\n",
        "  price=dollar*0.9\n",
        "  print(f\"消費金額為{price}\")\n",
        "else:\n",
        "  print(f\"消費金額為{dollar}\")"
      ],
      "execution_count": null,
      "outputs": [
        {
          "output_type": "stream",
          "text": [
            "多少錢：2020\n",
            "消費金額為1818.0\n"
          ],
          "name": "stdout"
        }
      ]
    },
    {
      "cell_type": "markdown",
      "metadata": {
        "id": "gyu9Hs41kpvi"
      },
      "source": [
        "#### 隨堂練習: 判斷奇偶數\n",
        "\n",
        "請寫一個程式判斷輸入的值是奇數還是偶數。"
      ]
    },
    {
      "cell_type": "code",
      "metadata": {
        "id": "dY1nkdf_kpvj",
        "colab": {
          "base_uri": "https://localhost:8080/"
        },
        "outputId": "0a601551-8533-41d8-8836-384db3d22453"
      },
      "source": [
        "num=int(input(\"輸入數字：\"))\n",
        "ans=num%2\n",
        "if ans==1:\n",
        "  print(\"是奇數\")\n",
        "else:\n",
        "  print(\"是偶數\")"
      ],
      "execution_count": null,
      "outputs": [
        {
          "output_type": "stream",
          "text": [
            "輸入數字：7\n",
            "是奇數\n"
          ],
          "name": "stdout"
        }
      ]
    },
    {
      "cell_type": "markdown",
      "metadata": {
        "id": "whQdnO9tkpvj"
      },
      "source": [
        "## 3. 多向選擇\n"
      ]
    },
    {
      "cell_type": "code",
      "metadata": {
        "id": "tRPpc4_Rkpvj"
      },
      "source": [
        "#### 範例：兩個數比大小\n",
        "\n",
        "In [1]: ## Input\n",
        "    ...: num1 = int(input(\"Please input a number: \"))\n",
        "    ...: num2 = int(input(\"Please input another number: \"))\n",
        "    ...: \n",
        "    ...: ## Process＋ Output\n",
        "    ...: if num1 == num2:\n",
        "    ...:     print(num1, \"等於\", num2)\n",
        "    ...: elif num1 < num2:\n",
        "    ...:     print(num1, \"小於\", num2)\n",
        "    ...: else:\n",
        "    ...:     print(num1, \"大於\", num2)\n",
        "\n",
        "Please input a number: 5\n",
        "\n",
        "Please input another number: 8\n",
        "5 小於 8"
      ],
      "execution_count": null,
      "outputs": []
    },
    {
      "cell_type": "code",
      "metadata": {
        "id": "LAi-kI8rkpvj",
        "colab": {
          "base_uri": "https://localhost:8080/"
        },
        "outputId": "16f9bb4e-64db-4dc3-d68b-ee42ec22a13d"
      },
      "source": [
        "num1 = int(input(\"請輸入數字: \"))\n",
        "num2 = int(input(\"請輸入另一數字: \"))\n",
        "if num1 == num2:\n",
        "  print(num1, \"等於\", num2)\n",
        "elif num1 < num2:\n",
        "  print(num1, \"小於\", num2)\n",
        "else:\n",
        "   print(num1, \"大於\", num2)"
      ],
      "execution_count": 2,
      "outputs": [
        {
          "output_type": "stream",
          "text": [
            "請輸入數字: 5\n",
            "請輸入另一數字: 7\n",
            "5 小於 7\n"
          ],
          "name": "stdout"
        }
      ]
    },
    {
      "cell_type": "code",
      "metadata": {
        "id": "WoyFFltPkpvj"
      },
      "source": [
        "#### 範例 : 郵資計算\n",
        "\n",
        "某快遞公司以重量為計算郵資的依據，重量與郵資計算如下表，請寫一個程式協助快遞人員計算郵資，快遞人員只要輸入重量，程式自動計算郵資。\n",
        "\n",
        "In [1]: ## 郵資計算\n",
        "    ...: w = float(input('請輸入物品重量？')) # Input\n",
        "    ...: \n",
        "    ...: if w <= 5:                          \n",
        "    ...:     print('所需郵資為50元')\n",
        "    ...: elif w <= 10:\n",
        "    ...:     print('所需郵資為70元')\n",
        "    ...: elif w <= 15:\n",
        "    ...:     print('所需郵資為90元')\n",
        "    ...: elif w <= 20:\n",
        "    ...:     print('所需郵資為110元')\n",
        "    ...: else:\n",
        "    ...:     print('超過20公斤無法寄送')\n",
        "\n",
        "請輸入物品重量？20\n",
        "所需郵資為110元"
      ],
      "execution_count": null,
      "outputs": []
    },
    {
      "cell_type": "code",
      "metadata": {
        "id": "EU7sBEFckpvk"
      },
      "source": [
        "w = float(input(\"輸入重量：\"))\n",
        "if w <= 5:\n",
        "  print('所需郵資為50元')\n",
        "elif w <= 10:\n",
        "  print('所需郵資為70元')\n",
        "elif w <= 15:\n",
        "  print('所需郵資為90元')\n",
        "elif w <= 20:\n",
        "  print('所需郵資為110元')\n",
        "else:\n",
        "  print('超過20公斤無法寄送')"
      ],
      "execution_count": null,
      "outputs": []
    },
    {
      "cell_type": "markdown",
      "metadata": {
        "id": "TbbUPm5ckpvk"
      },
      "source": [
        "#### 隨堂練習： BMI 計算\n",
        "\n",
        "**請寫一個程式讓使用者輸入身高與體重，顯示BMI 值與肥胖程度。**"
      ]
    },
    {
      "cell_type": "code",
      "metadata": {
        "id": "g8hafHm6kpvk",
        "colab": {
          "base_uri": "https://localhost:8080/"
        },
        "outputId": "0ec6e4e4-aa06-45fc-c121-5829bfd7d19d"
      },
      "source": [
        "w=float(input(\"輸入體重：\"))\n",
        "h=float(input(\"輸入身高：\"))\n",
        "H=h/100\n",
        "bmi=w/(H*H)\n",
        "print(\"bmi為\",bmi)\n",
        "if bmi<18:\n",
        "  print(\"體重過輕\")\n",
        "elif bmi<24:\n",
        "  print(\"體重正常\")\n",
        "elif bmi<27:\n",
        "  print(\"體重過重\")\n",
        "else:\n",
        "  print(\"體重肥胖\")"
      ],
      "execution_count": 1,
      "outputs": [
        {
          "output_type": "stream",
          "text": [
            "輸入體重：48\n",
            "輸入身高：171\n",
            "bmi為 16.415307274033037\n",
            "體重過輕\n"
          ],
          "name": "stdout"
        }
      ]
    }
  ]
}