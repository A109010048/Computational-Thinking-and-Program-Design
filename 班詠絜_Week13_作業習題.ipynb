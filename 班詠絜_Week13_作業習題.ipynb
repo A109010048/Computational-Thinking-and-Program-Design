{
  "nbformat": 4,
  "nbformat_minor": 0,
  "metadata": {
    "kernelspec": {
      "display_name": "Python 3",
      "language": "python",
      "name": "python3"
    },
    "language_info": {
      "codemirror_mode": {
        "name": "ipython",
        "version": 3
      },
      "file_extension": ".py",
      "mimetype": "text/x-python",
      "name": "python",
      "nbconvert_exporter": "python",
      "pygments_lexer": "ipython3",
      "version": "3.8.5"
    },
    "colab": {
      "name": "班詠絜 - Week13 - 作業習題.ipynb",
      "provenance": [],
      "collapsed_sections": [],
      "include_colab_link": true
    }
  },
  "cells": [
    {
      "cell_type": "markdown",
      "metadata": {
        "id": "view-in-github",
        "colab_type": "text"
      },
      "source": [
        "<a href=\"https://colab.research.google.com/github/A109010048/Computational-Thinking-and-Program-Design/blob/main/%E7%8F%AD%E8%A9%A0%E7%B5%9C_Week13_%E4%BD%9C%E6%A5%AD%E7%BF%92%E9%A1%8C.ipynb\" target=\"_parent\"><img src=\"https://colab.research.google.com/assets/colab-badge.svg\" alt=\"Open In Colab\"/></a>"
      ]
    },
    {
      "cell_type": "markdown",
      "metadata": {
        "id": "F4S9PYioj4co"
      },
      "source": [
        "**隨堂練習1： BMI 計算**\n",
        "\n",
        "請寫一個程式讓使用者輸入身高與體重，顯示BMI 值與肥胖程度。 BMI 等於體重（KG）除以身高（M）的平方，而BMI 與肥胖分類標準如下：\n",
        "\n",
        "若BMI 值小於18，則顯示「體重過輕」，否則若BMI 值小於24，則顯示「體重正常」，若BMI 值小於27，則顯示「體重過重」，否則顯示「體重肥胖」。"
      ]
    },
    {
      "cell_type": "code",
      "metadata": {
        "id": "2n27GQgOj4cr",
        "colab": {
          "base_uri": "https://localhost:8080/"
        },
        "outputId": "309721d8-c7ab-4098-8c05-874de26545f0"
      },
      "source": [
        "w=float(input(\"輸入體重：\"))\n",
        "h=float(input(\"輸入身高：\"))\n",
        "H=h/100\n",
        "bmi=w/(H*H)\n",
        "print(\"bmi為\",bmi)\n",
        "if bmi<18:\n",
        "  print(\"體重過輕\")\n",
        "elif bmi<24:\n",
        "  print(\"體重正常\")\n",
        "elif bmi<27:\n",
        "  print(\"體重過重\")\n",
        "else:\n",
        "  print(\"體重肥胖\")"
      ],
      "execution_count": null,
      "outputs": [
        {
          "output_type": "stream",
          "text": [
            "輸入體重：48\n",
            "輸入身高：171\n",
            "bmi為 16.415307274033037\n",
            "體重過輕\n"
          ],
          "name": "stdout"
        }
      ]
    },
    {
      "cell_type": "markdown",
      "metadata": {
        "id": "xTe_ZYrSj4cs"
      },
      "source": [
        "**隨堂練習2： 三一律(單向選擇、雙向與巢狀選擇、多向選擇)**\n",
        "\n",
        "請輸入一個數，然後判斷這個數是正數、是負數或者是零。"
      ]
    },
    {
      "cell_type": "code",
      "metadata": {
        "id": "kRCJ9knJj4ct",
        "colab": {
          "base_uri": "https://localhost:8080/"
        },
        "outputId": "bd574216-e04d-4e7e-d54f-fee5d1ef69f8"
      },
      "source": [
        "num=int(input(\"輸入一個數：\"))\n",
        "if num>0:\n",
        "  print(\"是正數\")\n",
        "elif num==0:\n",
        "  print(\"是零\")\n",
        "else:\n",
        "  print(\"是負數\")"
      ],
      "execution_count": null,
      "outputs": [
        {
          "output_type": "stream",
          "text": [
            "輸入一個數：-7\n",
            "是負數\n"
          ],
          "name": "stdout"
        }
      ]
    },
    {
      "cell_type": "markdown",
      "metadata": {
        "id": "Y6lSZsTcj4cu"
      },
      "source": [
        "**練習5   體溫與發燒**\n",
        "\n",
        "設計程式根據體溫判斷是否發燒，由使用者輸入體溫，程式判斷是否發燒，假設體溫小於36度，顯示「體溫過低」，體溫大於等於36度小於38度，顯示「體溫正常」，否則若體溫大於等於38度小於39度，顯示「體溫有點燒」，否則體溫大於等於39度，顯示「體溫很燒」。\n",
        "\n",
        "輸入體溫「36.5」，輸出為「體溫正常」。\n",
        "\n",
        "～程式執行結果如下。\n",
        "\n",
        "請輸入體溫？36.5\n",
        "\n",
        "體溫正常"
      ]
    },
    {
      "cell_type": "code",
      "metadata": {
        "id": "MACRXUicj4cv",
        "colab": {
          "base_uri": "https://localhost:8080/"
        },
        "outputId": "5d4d6554-cc02-4241-d00c-746630a445a9"
      },
      "source": [
        "t=float(input(\"輸入體溫：\"))\n",
        "if t<36:\n",
        "  print(\"體溫過低\")\n",
        "elif t<38:\n",
        "  print(\"體溫正常\")\n",
        "elif t<39:\n",
        "  print(\"體溫有點燒\")\n",
        "else:\n",
        "  print(\"體溫很燒\")"
      ],
      "execution_count": null,
      "outputs": [
        {
          "output_type": "stream",
          "text": [
            "輸入體溫：37.5\n",
            "體溫正常\n"
          ],
          "name": "stdout"
        }
      ]
    },
    {
      "cell_type": "markdown",
      "metadata": {
        "id": "pw_b3LkVj4cx"
      },
      "source": [
        "**練習6  閏年判斷**\n",
        "\n",
        "設計程式允許輸入西元幾年，請求出該年是否是閏年，閏年表示該年多一天，若為4的倍數稱做閏年，但若為100的倍數就不為閏年，且若為400倍數又是閏年。(四年一潤、百年不潤、四百年再潤)\n",
        "\n",
        "輸入年份「2012」，輸出為「2012是閏年」。\n",
        "\n",
        "～程式執行結果如下。\n",
        "\n",
        "請輸入年份？2012\n",
        "\n",
        "2012 是閏年"
      ]
    },
    {
      "cell_type": "code",
      "metadata": {
        "id": "ICPhJPKvj4cy",
        "colab": {
          "base_uri": "https://localhost:8080/"
        },
        "outputId": "fb84bd2d-e32a-4a3d-8a38-113492e72063"
      },
      "source": [
        "year=int(input(\"輸入年份：\"))\n",
        "if year%400==0:\n",
        "  print(year,\"是閏年\")\n",
        "else:\n",
        "  if (year%4==0) and (year%100!=0):\n",
        "    print(year,\"是閏年\")\n",
        "  else:\n",
        "    print(year,\"不是閏年\")"
      ],
      "execution_count": 7,
      "outputs": [
        {
          "output_type": "stream",
          "text": [
            "輸入年份：2021\n",
            "2021 不是閏年\n"
          ],
          "name": "stdout"
        }
      ]
    },
    {
      "cell_type": "markdown",
      "metadata": {
        "id": "iydgK608j4cy"
      },
      "source": [
        "**練習12：計程車計費**\n",
        "\n",
        "某城市計程車計費3公里以內6元，超過3公里不足10公里、每公里1.8元，超過10公里則超過部分加收50%。此外停車等候每3分鐘收1元，請用Python寫出車費是多少。"
      ]
    },
    {
      "cell_type": "code",
      "metadata": {
        "id": "EGNKMKXTj4cz",
        "colab": {
          "base_uri": "https://localhost:8080/"
        },
        "outputId": "c7bf8368-bf7e-4e4a-c0c2-ea5111b4a004"
      },
      "source": [
        "drive=float(input(\"開了幾公里：\"))\n",
        "stop=float(input(\"停了幾分鐘：\"))\n",
        "if drive<=3:\n",
        "  dollar_d=6\n",
        "elif drive<10:\n",
        "  dollar_d=6+(drive-3)*1.8\n",
        "else:\n",
        "  dollar_d=6+1.8*(10-3)+(drive-10)*1.8*1.5\n",
        "dollar_s=(stop//3)*1\n",
        "total=dollar_d+dollar_s\n",
        "print(\"總共車費為\",total)"
      ],
      "execution_count": 13,
      "outputs": [
        {
          "output_type": "stream",
          "text": [
            "開了幾公里：15\n",
            "停了幾分鐘：6\n",
            "總共車費為 34.1\n"
          ],
          "name": "stdout"
        }
      ]
    },
    {
      "cell_type": "markdown",
      "metadata": {
        "id": "23k_Sf-Nt-rV"
      },
      "source": [
        "**加分練習 : 三⼀律延伸。**\n",
        "\n",
        "請輸入兩個數，然後判斷這兩個數是正數、是負數或者是零"
      ]
    }
  ]
}