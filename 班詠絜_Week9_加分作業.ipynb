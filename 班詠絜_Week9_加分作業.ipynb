{
  "nbformat": 4,
  "nbformat_minor": 0,
  "metadata": {
    "colab": {
      "name": "班詠絜-Week9-加分作業.ipynb",
      "provenance": [],
      "collapsed_sections": [],
      "authorship_tag": "ABX9TyPvRa4/OG2ATWOu9HlN4fBO",
      "include_colab_link": true
    },
    "kernelspec": {
      "name": "python3",
      "display_name": "Python 3"
    },
    "language_info": {
      "name": "python"
    }
  },
  "cells": [
    {
      "cell_type": "markdown",
      "metadata": {
        "id": "view-in-github",
        "colab_type": "text"
      },
      "source": [
        "<a href=\"https://colab.research.google.com/github/A109010048/Computational-Thinking-and-Program-Design/blob/main/%E7%8F%AD%E8%A9%A0%E7%B5%9C_Week9_%E5%8A%A0%E5%88%86%E4%BD%9C%E6%A5%AD.ipynb\" target=\"_parent\"><img src=\"https://colab.research.google.com/assets/colab-badge.svg\" alt=\"Open In Colab\"/></a>"
      ]
    },
    {
      "cell_type": "markdown",
      "metadata": {
        "id": "qq0zCt7mjdg7"
      },
      "source": [
        "**練習17: 農夫的難題**\n",
        "\n",
        "一位農夫帶著一條狼，一隻羊和一籃蔬菜過河但只有一條小船，並且每次只能讓農夫帶一樣東西過河。農夫在場的情況下一切相安無事，一旦農夫不在，狼會吃羊，洋會吃蔬菜。你幫助農夫解決過河的難題嗎？"
      ]
    },
    {
      "cell_type": "code",
      "metadata": {
        "colab": {
          "base_uri": "https://localhost:8080/"
        },
        "id": "X0CwOrPQjn6p",
        "outputId": "c38437c7-14f4-4469-f9d4-6b57663e84e8"
      },
      "source": [
        "f=1000\n",
        "w=100\n",
        "s=10\n",
        "v=1\n",
        "a=1111\n",
        "b=0\n",
        "a=a-10\n",
        "b=b+10\n",
        "a=a-100+10\n",
        "b=b+100-10\n",
        "a=a-1\n",
        "b=b+1\n",
        "a=a-10-1000\n",
        "b=b+10+1000\n",
        "\n",
        "print(f\"若a=0,b=1111，則農夫待所有東西完成過河\")\n",
        "print(f\"a={a},b={b}\")"
      ],
      "execution_count": 6,
      "outputs": [
        {
          "output_type": "stream",
          "text": [
            "若a=0,b=1111，則農夫待所有東西完成過河\n",
            "a=0,b=1111\n"
          ],
          "name": "stdout"
        }
      ]
    }
  ]
}