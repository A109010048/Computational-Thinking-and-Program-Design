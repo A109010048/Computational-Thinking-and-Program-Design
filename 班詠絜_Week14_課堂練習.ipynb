{
  "nbformat": 4,
  "nbformat_minor": 0,
  "metadata": {
    "kernelspec": {
      "display_name": "Python 3",
      "language": "python",
      "name": "python3"
    },
    "language_info": {
      "codemirror_mode": {
        "name": "ipython",
        "version": 3
      },
      "file_extension": ".py",
      "mimetype": "text/x-python",
      "name": "python",
      "nbconvert_exporter": "python",
      "pygments_lexer": "ipython3",
      "version": "3.8.5"
    },
    "colab": {
      "name": "班詠絜-Week14-課堂練習.ipynb",
      "provenance": [],
      "collapsed_sections": [],
      "include_colab_link": true
    }
  },
  "cells": [
    {
      "cell_type": "markdown",
      "metadata": {
        "id": "view-in-github",
        "colab_type": "text"
      },
      "source": [
        "<a href=\"https://colab.research.google.com/github/A109010048/Computational-Thinking-and-Program-Design/blob/main/%E7%8F%AD%E8%A9%A0%E7%B5%9C_Week14_%E8%AA%B2%E5%A0%82%E7%B7%B4%E7%BF%92.ipynb\" target=\"_parent\"><img src=\"https://colab.research.google.com/assets/colab-badge.svg\" alt=\"Open In Colab\"/></a>"
      ]
    },
    {
      "cell_type": "markdown",
      "metadata": {
        "id": "Cff1AoAip46a"
      },
      "source": [
        "### 習題解答"
      ]
    },
    {
      "cell_type": "markdown",
      "metadata": {
        "id": "F4bohmBAp46n"
      },
      "source": [
        "#### 應用練習 1：電影評價\n",
        "\n",
        "movie_title = input('請輸入電影的名稱:')\n",
        "movie_rating = float(input('請輸入電影的評等:'))\n",
        "\n",
        "## 單向選擇 if條件句\n",
        "\n",
        "if movie_rating > 7:\n",
        "    print(f\"{movie_titl}的評分為{movie_rating}分值得去看！\")\n",
        "    \n",
        "\n",
        "## 二合一的單向選擇\n",
        "\n",
        "if movie_rating > 7:\n",
        "    print(f\"{}的評分為 {} 分值得去看！\")\n",
        "if movie_rating <= 7:\n",
        "    print(f\"{}的評分為 {} 分不值得去看！\")\n",
        "    \n",
        "## 雙向選擇\n",
        "if movie_rating > 7:\n",
        "    print(f\"{}的評分為 {} 分值得去看！\")\n",
        "else:\n",
        "    print(f\"{}的評分為 {} 分不值得去看！\")\n",
        "\n",
        "\n",
        "## 多向選擇\n",
        "if movie_rating > 7:\n",
        "     print(f\"{}的評分為 {} 分值得去看！\")\n",
        "elif movie_rating > 6:\n",
        "    print(f\"{}的評分為 {} 分不值得去看！\")\n",
        "else:\n",
        "    print(f\"{}的評分為 {} 分不要看!\")"
      ]
    },
    {
      "cell_type": "code",
      "metadata": {
        "id": "c8ppLhbYp46n",
        "colab": {
          "base_uri": "https://localhost:8080/"
        },
        "outputId": "51ea5705-9329-4896-fc84-3e7cad3aeff9"
      },
      "source": [
        "movie_title = input(\"輸入電影名稱:\")\n",
        "movie_rating = float(input(\"輸入電影評等:\"))\n",
        "if movie_rating > 7:\n",
        "     print(f\"{movie_title}的評分為 {movie_rating} 分很值得去看！\")\n",
        "elif movie_rating > 6:\n",
        "    print(f\"{movie_title}的評分為 {movie_rating} 分值得去看！\")\n",
        "elif movie_rating > 5:\n",
        "    print(f\"{movie_title}的評分為 {movie_rating} 分不值得看!\")\n",
        "else:\n",
        "    print(f\"{movie_title}的評分為 {movie_rating} 分不要看!\")"
      ],
      "execution_count": 6,
      "outputs": [
        {
          "output_type": "stream",
          "text": [
            "輸入電影名稱:Aladdin2019\n",
            "輸入電影評等:6.9\n",
            "Aladdin2019的評分為 6.9 分值得去看！\n"
          ],
          "name": "stdout"
        }
      ]
    },
    {
      "cell_type": "markdown",
      "metadata": {
        "id": "UjMtFJj5p46o"
      },
      "source": [
        "#### 應用練習 2：依照身份證字號，排隊領口罩\n",
        "\n",
        "user_int = int(input(\"請輸入一個正整數：\"))\n",
        "\n",
        "## 單向選擇\n",
        "\n",
        "if user_int % 2 == 0:\n",
        "    ans = \"偶數，請星期二四六日領口罩\"\n",
        "if user_int % 2 == 1:\n",
        "    ans = \"奇數，請星期一三五日領口罩\"\n",
        "print(ans)\n",
        "\n",
        "## 雙向選擇\n",
        "\n",
        "if user_int % 2 == 0:\n",
        "    ans = \"偶數，請星期二四六日領口罩\"\n",
        "else:\n",
        "    ans = \"奇數，請星期一三五日領口罩\"\n",
        "print(ans)\n"
      ]
    },
    {
      "cell_type": "markdown",
      "metadata": {
        "id": "l4gNXUcJp46o"
      },
      "source": [
        "## 雙向選擇(Optional)\n",
        "id_number = input(\"請輸入身分證字號：\")\n",
        "id_last_digit = id_number[-1] # 由右往左數\n",
        "id_last_digit = int(id_last_digit)# 文字轉數字\n",
        "\n",
        "if id_last_digit % 2 == 0:\n",
        "    ans = \"偶數，請星期二四六日領口罩\"\n",
        "else:\n",
        "    ans = \"奇數，請星期一三五日領口罩\"\n",
        "print(ans)\n",
        "\n",
        "## 雙向選擇\n",
        "id_number = input(\"請輸入身分證字號：\")\n",
        "id_second_digit = id_number[1]\n",
        "if id_second_digit == '1':\n",
        "    gender = \"Male\"\n",
        "else:\n",
        "    gender = \"Female\"\n",
        "print(gender)"
      ]
    },
    {
      "cell_type": "code",
      "metadata": {
        "id": "hGjiCcZsp46p",
        "colab": {
          "base_uri": "https://localhost:8080/"
        },
        "outputId": "98ce08c2-b4a6-496a-cfa2-99a4a453c33b"
      },
      "source": [
        "num=int(input(\"輸入身分證尾數：\"))\n",
        "if num%2==0:\n",
        "  print(\"偶數，請於星期二四六日領口罩\")\n",
        "else:\n",
        "  print(\"奇數，請於星期一三五日領口罩\")"
      ],
      "execution_count": 3,
      "outputs": [
        {
          "output_type": "stream",
          "text": [
            "輸入身分證尾數：8\n",
            "偶數，請於星期二四六日領口罩\n"
          ],
          "name": "stdout"
        }
      ]
    },
    {
      "cell_type": "code",
      "metadata": {
        "colab": {
          "base_uri": "https://localhost:8080/"
        },
        "id": "CTw8MHJX80Ue",
        "outputId": "6a5be4d6-23ff-45a7-c8a0-52feb1627070"
      },
      "source": [
        "id=(input(\"輸入身分證字號：\"))\n",
        "num=int(id[10])\n",
        "if num%2==0:\n",
        "  print(\"尾數是偶數，請於星期二四六日領口罩\")\n",
        "else:\n",
        "  print(\"尾數是奇數，請於星期一三五日領口罩\")"
      ],
      "execution_count": 9,
      "outputs": [
        {
          "output_type": "stream",
          "text": [
            "輸入身分證字號：F0123456789\n",
            "尾數是奇數，請於星期一三五日領口罩\n"
          ],
          "name": "stdout"
        }
      ]
    },
    {
      "cell_type": "code",
      "metadata": {
        "colab": {
          "base_uri": "https://localhost:8080/"
        },
        "id": "TYT9wY7x9pKD",
        "outputId": "40bad9c1-8afd-4170-e0de-12b1429d5a13"
      },
      "source": [
        "id=(input(\"輸入身分證字號：\"))\n",
        "num=int(id[2])\n",
        "if num==1:\n",
        "  print(\"是男生\")\n",
        "else:\n",
        "  print(\"是女生\")"
      ],
      "execution_count": 10,
      "outputs": [
        {
          "output_type": "stream",
          "text": [
            "輸入身分證字號：F222233333\n",
            "是女生\n"
          ],
          "name": "stdout"
        }
      ]
    },
    {
      "cell_type": "markdown",
      "metadata": {
        "id": "bzotWpH_-_UZ"
      },
      "source": [
        "####應⽤練習3: 剪⼑⽯頭布\n",
        "\n",
        "⽬標: 設計和電腦對戰的遊戲"
      ]
    },
    {
      "cell_type": "code",
      "metadata": {
        "colab": {
          "base_uri": "https://localhost:8080/"
        },
        "id": "FW232amW_Iu-",
        "outputId": "552bd956-1020-4e38-d5de-752eedeedf89"
      },
      "source": [
        "my = int(input(\"請出拳 [0] 剪刀 [1] 石頭 [2] 布\"))\n",
        "print(\"我出拳為\", my)\n",
        "import random\n",
        "computer = random.randint(0, 2)\n",
        "print(\"電腦出拳為\", computer)\n",
        "\n",
        "if my == 0:\n",
        "    if computer == 0:\n",
        "        print('平手')\n",
        "    elif computer == 1:\n",
        "        print('電腦獲勝')\n",
        "    else:\n",
        "        print('玩家獲勝')\n",
        "elif my == 1:\n",
        "    if computer == 0:\n",
        "        print('玩家獲勝')\n",
        "    elif computer == 1:\n",
        "        print('平手')\n",
        "    else:\n",
        "        print('電腦獲勝')\n",
        "else:\n",
        "    if computer == 1:\n",
        "        print('電腦獲勝')\n",
        "    elif computer == 2:\n",
        "        print('玩家獲勝')\n",
        "    else:\n",
        "        print('平手')"
      ],
      "execution_count": 11,
      "outputs": [
        {
          "output_type": "stream",
          "text": [
            "請出拳 [0] 剪刀 [1] 石頭 [2] 布1\n",
            "我出拳為 1\n",
            "電腦出拳為 1\n",
            "平手\n"
          ],
          "name": "stdout"
        }
      ]
    },
    {
      "cell_type": "markdown",
      "metadata": {
        "id": "CjANVJOsp46p"
      },
      "source": [
        "#### 應用練習 4：冒險遊戲 - 過去還是未來\n",
        "\n",
        "name = \" Your name here\"\n",
        "\n",
        "print(f\"Welcome to {name}'s Choose Your Own Adventure game! As you follow the story, you will be presented with choices that decide your fate. Take care and choose wisely! Let's begin.\")\n",
        "\n",
        "print(f\"You find yourself in a dark room with 2 doors. The first door is red, the second is white!\")\n",
        "\n",
        "door_choice = input(\"Which door do you want to choose? red = red door or white = white door\")\n",
        "\n",
        "if door_choice == \"red\":\n",
        "\tprint(\"Great, you walk through the red door and are now in the future! You meet a scientist who gives you a mission of helping him save the world!\")\n",
        "\t\n",
        "\tchoose_one = input(\"What do you want to do? \n",
        "\t1 = Accept or 2 = Decline\")\n",
        "\tif choice_one == \"1\":\n",
        "\t\tprint(\"\"\"＿＿＿＿＿SUCCESS＿＿＿＿＿\n",
        "\t\tYou will helped the scientist save the world!\n",
        "\t\tIn gratitude, the scientist builds a time machine\n",
        "        and sends you home! \"\"\")\n",
        "\telse:\n",
        "\t\tprint(\"\"\"______GAME OVER______\n",
        "\t\tToo bad! You declined the sientist's offer and\n",
        "    \tnow you are stuck in the future!\"\"\")\n",
        "\n",
        "else:\n",
        "\tprint(\"Great, you walked through the white door and now you are in the past! You meet a princess who asks you to go on a request.\")\n",
        "\t\n",
        "\tquest_choice = input(\"Do you want to accept her offer and go on the quest, or do you want to stay where you are?  1 = Accept or 2 = Decline\")\n",
        "\t\n",
        "\tif quest_choice == \"1\":\n",
        "\t\tprint(\"\"\"＿＿＿＿＿SUCCESS＿＿＿＿＿\n",
        "        Princess thanks you for accepting her offer. You begin the quest.\"\"\")\n",
        "\telse:\n",
        "\t\tprint(\"\"\"______GAME OVER _____\n",
        "\t\tWell, I guess your story ends here!\"\"\")"
      ]
    },
    {
      "cell_type": "code",
      "metadata": {
        "id": "1-YEHyOCp46q"
      },
      "source": [
        ""
      ],
      "execution_count": null,
      "outputs": []
    }
  ]
}