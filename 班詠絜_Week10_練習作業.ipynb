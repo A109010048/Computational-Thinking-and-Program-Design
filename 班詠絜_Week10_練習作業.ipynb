{
  "nbformat": 4,
  "nbformat_minor": 0,
  "metadata": {
    "kernelspec": {
      "display_name": "Python 3",
      "language": "python",
      "name": "python3"
    },
    "language_info": {
      "codemirror_mode": {
        "name": "ipython",
        "version": 3
      },
      "file_extension": ".py",
      "mimetype": "text/x-python",
      "name": "python",
      "nbconvert_exporter": "python",
      "pygments_lexer": "ipython3",
      "version": "3.8.5"
    },
    "colab": {
      "name": "班詠絜-Week10-練習作業.ipynb",
      "provenance": [],
      "collapsed_sections": [],
      "include_colab_link": true
    }
  },
  "cells": [
    {
      "cell_type": "markdown",
      "metadata": {
        "id": "view-in-github",
        "colab_type": "text"
      },
      "source": [
        "<a href=\"https://colab.research.google.com/github/A109010048/Computational-Thinking-and-Program-Design/blob/main/%E7%8F%AD%E8%A9%A0%E7%B5%9C_Week10_%E7%B7%B4%E7%BF%92%E4%BD%9C%E6%A5%AD.ipynb\" target=\"_parent\"><img src=\"https://colab.research.google.com/assets/colab-badge.svg\" alt=\"Open In Colab\"/></a>"
      ]
    },
    {
      "cell_type": "markdown",
      "metadata": {
        "id": "96J4ACHtgGfU"
      },
      "source": [
        "# 基本程式設計(應用篇)"
      ]
    },
    {
      "cell_type": "markdown",
      "metadata": {
        "id": "qmSYLczUgGfa"
      },
      "source": [
        "### 4-2 運算思維四個基石"
      ]
    },
    {
      "cell_type": "markdown",
      "metadata": {
        "id": "bpBRdFP9gGfa"
      },
      "source": [
        "#### 4-2-4  問題拆解 - 打造你的聊天機器人"
      ]
    },
    {
      "cell_type": "markdown",
      "metadata": {
        "id": "sFi89_fmgGfb"
      },
      "source": [
        "「哈囉，大家好。我叫Zyxo64，是一個聊天機器人。\n",
        "\n",
        "在嗜好與興趣方面，我很喜歡美食，也喜歡養動物。\n",
        "\n",
        "很高興有機會來到世新大學，請大家多多指教。\n",
        "\n",
        "嗨！妳好，請問大名？：Francis。\n",
        "\n",
        "Francis，很高興認識你。"
      ]
    },
    {
      "cell_type": "code",
      "metadata": {
        "id": "lEEn_PgQgGfb",
        "colab": {
          "base_uri": "https://localhost:8080/"
        },
        "outputId": "5649c1d1-3388-4bf8-e652-62bd1fa9e6a7"
      },
      "source": [
        "# 1.聊天機器人自我介紹\n",
        "print(\"哈囉，大家好。我叫Zyxo64，是一個聊天機器人。\")\n",
        "hobby=\"在嗜好與興趣方面，我很喜歡美食，也喜歡養動物。\"\n",
        "print(hobby)\n",
        "print(\"很高興有機會來到世新大學，請大家多多指教。\")\n",
        "\n",
        "# 2. 打招呼，取得對方名字\n",
        "name=input(\"嗨！妳好，請問大名？：\")\n",
        "print(f\"{name}，很高興認識你。\")"
      ],
      "execution_count": 12,
      "outputs": [
        {
          "output_type": "stream",
          "text": [
            "哈囉，大家好。我叫Zyxo64，是一個聊天機器人。\n",
            "在嗜好與興趣方面，我很喜歡美食，也喜歡養動物。\n",
            "很高興有機會來到世新大學，請大家多多指教。\n",
            "嗨！妳好，請問大名？：Francis\n",
            "Francis，很高興認識你。\n"
          ],
          "name": "stdout"
        }
      ]
    },
    {
      "cell_type": "markdown",
      "metadata": {
        "id": "1VJjBmFvgGfb"
      },
      "source": [
        "抱歉，請問一下今年是西元2021年，那是民國幾年呢？：*110*。\n",
        "\n",
        "對！沒錯，謝謝妳！\n",
        "\n",
        "**Francis**，猜猜看我今年幾歲？ ：**18**。\n",
        "\n",
        "哇！你好聰明，我今年的確*18*。\n",
        "\n",
        "再82年我就100歲了。\n",
        "\n",
        "那時候是西元 2103年，也就是民國192年囉！"
      ]
    },
    {
      "cell_type": "code",
      "metadata": {
        "id": "dY5o3BYogGfc",
        "colab": {
          "base_uri": "https://localhost:8080/"
        },
        "outputId": "2c900514-3478-46fa-a11e-3c361a7415e3"
      },
      "source": [
        "# 3. 數學運算\n",
        "## 3-1 從使用者取得今年年份\n",
        "year=input(\"抱歉，請問一下今年是西元2021年，那是民國幾年呢？\")\n",
        "print(\"對！沒錯，謝謝妳！\")\n",
        "\n",
        "## 3-2 請使用者猜年齡\n",
        "age=input(\"Francis，猜猜看我今年幾歲？\")\n",
        "print(f\"哇！你好聰明，我今年的確{age}。\")\n",
        "\n",
        "## 3-3 計算聊天機器人滿100歲的年份\n",
        "nearage=100-int(age)\n",
        "print(f\"再{nearage}年我就100歲了。\")\n",
        "print(f\"那時候是西元{2021+nearage}，也就是民國{110+nearage}年囉！\")"
      ],
      "execution_count": 14,
      "outputs": [
        {
          "output_type": "stream",
          "text": [
            "抱歉，請問一下今年是西元2021年，那是民國幾年呢？110\n",
            "對！沒錯，謝謝妳！\n",
            "Francis，猜猜看我今年幾歲？18\n",
            "哇！你好聰明，我今年的確18。\n",
            "再82年我就100歲了。\n",
            "那時候是西元2103，也就是民國192年囉！\n"
          ],
          "name": "stdout"
        }
      ]
    },
    {
      "cell_type": "markdown",
      "metadata": {
        "id": "t7DUBR9IgGfc"
      },
      "source": [
        "我喜歡吃巧克力，也喜歡嘗試各種新食物。\n",
        "\n",
        "你呢？你最喜歡的食物是什麼？**:披薩**。\n",
        "\n",
        "我也喜歡 *披薩*。\n",
        "\n",
        "你多久吃一次 *披薩*？**：每天**。\n",
        "\n",
        "真有趣。不知道這樣對健康好不好。"
      ]
    },
    {
      "cell_type": "code",
      "metadata": {
        "colab": {
          "base_uri": "https://localhost:8080/"
        },
        "id": "YqGsVC2xyZBo",
        "outputId": "929fab64-655e-40a3-f9df-2c3d6d243dbc"
      },
      "source": [
        "# 4 興趣\n",
        "## 4-1 食物話題\n",
        "print(\"我喜歡吃巧克力，也喜歡嘗試各種新食物。\")\n",
        "food=input(\"你呢？你最喜歡的食物是什麼？:\")\n",
        "print(f\"我也喜歡{food}\")\n",
        "q=\"你多久吃一次\"+food+\"？：\"\n",
        "howoften=input(q)\n",
        "print(\"真有趣。不知道這樣對健康好不好。\")"
      ],
      "execution_count": 20,
      "outputs": [
        {
          "output_type": "stream",
          "text": [
            "我喜歡吃巧克力，也喜歡嘗試各種新食物。\n",
            "你呢？你最喜歡的食物是什麼？:披薩。\n",
            "我也喜歡披薩。\n",
            "你多久吃一次披薩。？：每天。\n",
            "真有趣。不知道這樣對健康好不好。\n"
          ],
          "name": "stdout"
        }
      ]
    },
    {
      "cell_type": "markdown",
      "metadata": {
        "id": "-b4LtsnOgGfd"
      },
      "source": [
        "我最喜歡的動物是長頸鹿。你呢？ **：烏龜**。\n",
        "\n",
        "我不喜歡*烏龜*！\n",
        "\n",
        "不知道 *烏龜* 喜不喜歡吃 *披薩*？"
      ]
    },
    {
      "cell_type": "code",
      "metadata": {
        "id": "-t-WHQnUgGfd",
        "colab": {
          "base_uri": "https://localhost:8080/"
        },
        "outputId": "f9f5120b-b8bc-44fb-b19d-1134a0e67131"
      },
      "source": [
        "# 4 興趣\n",
        "## 4-2 動物話題\n",
        "animal=input(\"我最喜歡的動物是長頸鹿。你呢？ ：\")\n",
        "print(f\"我不喜歡{animal}！\")\n",
        "print(f\"不知道{animal}喜不喜歡吃披薩？\")"
      ],
      "execution_count": 23,
      "outputs": [
        {
          "output_type": "stream",
          "text": [
            "我最喜歡的動物是長頸鹿。你呢？ ：烏龜\n",
            "我不喜歡烏龜！\n",
            "不知道烏龜喜不喜歡吃披薩？\n"
          ],
          "name": "stdout"
        }
      ]
    },
    {
      "cell_type": "markdown",
      "metadata": {
        "id": "XNeePozpgGfd"
      },
      "source": [
        "你今天的心情如何？ **：很開心**。\n",
        "\n",
        "可以告訴我你 *開心* 的原因嗎？**因為週末了！** \n",
        "\n",
        "祝你週末愉快！\n",
        "\n",
        "我喜歡跟你聊天，現在有點累了，改天再聊吧！！\n",
        "\n",
        "再見 *Francis*！"
      ]
    },
    {
      "cell_type": "code",
      "metadata": {
        "id": "Eox8IjvNgGfd",
        "colab": {
          "base_uri": "https://localhost:8080/"
        },
        "outputId": "a309a198-83c2-4672-9fd9-13c09345080a"
      },
      "source": [
        "# 5. 關於心情的對話\n",
        "how=input(\"你今天的心情如何？：\")\n",
        "reason=input(\"可以告訴我你開心的原因嗎？：\")\n",
        "print(\"祝你週末愉快！\")\n",
        "print(\"我喜歡跟你聊天，現在有點累了，改天再聊吧！！\")\n",
        "print(\"再見 Francis！\")"
      ],
      "execution_count": 19,
      "outputs": [
        {
          "output_type": "stream",
          "text": [
            "你今天的心情如何？：很開心。\n",
            "可以告訴我你開心的原因嗎？：因為週末了！\n",
            "祝你週末愉快！\n",
            "我喜歡跟你聊天，現在有點累了，改天再聊吧！！\n",
            "再見 Francis！\n"
          ],
          "name": "stdout"
        }
      ]
    },
    {
      "cell_type": "markdown",
      "metadata": {
        "id": "q8BoH3y9gGfe"
      },
      "source": [
        "我喜歡跟你聊天，現在有點累了，改天再聊吧！！\n",
        "\n",
        "再見 *Francis*！"
      ]
    },
    {
      "cell_type": "code",
      "metadata": {
        "id": "AOTYbT7-gGfe"
      },
      "source": [
        "# 6. 道別\n"
      ],
      "execution_count": null,
      "outputs": []
    },
    {
      "cell_type": "markdown",
      "metadata": {
        "id": "gThSZcapgGfe"
      },
      "source": [
        "## 期末報告"
      ]
    },
    {
      "cell_type": "markdown",
      "metadata": {
        "id": "yQdFxR6wgGfe"
      },
      "source": [
        "\n",
        "\n",
        "```\n",
        "# 此內容會顯示為程式碼\n",
        "```\n",
        "\n",
        "### 組長(學號姓名):\n",
        "A109010048班詠絜\n",
        "\n"
      ]
    },
    {
      "cell_type": "markdown",
      "metadata": {
        "id": "VPFUvN3ygGfe"
      },
      "source": [
        "### 組員(學號姓名):\n",
        "A109010018林佳穎\n",
        "\n",
        "A109010066邵卉婕\n",
        "\n",
        "A109010099林芝彣\n"
      ]
    },
    {
      "cell_type": "markdown",
      "metadata": {
        "id": "_ntMUan4gGff"
      },
      "source": [
        "### 題目:"
      ]
    },
    {
      "cell_type": "markdown",
      "metadata": {
        "id": "DXIhsIhugGff"
      },
      "source": [
        "### 百字腳本\n",
        "\n"
      ]
    }
  ]
}